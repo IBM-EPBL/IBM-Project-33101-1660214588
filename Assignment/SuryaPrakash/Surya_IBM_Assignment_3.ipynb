{
  "nbformat": 4,
  "nbformat_minor": 0,
  "metadata": {
    "colab": {
      "provenance": []
    },
    "kernelspec": {
      "name": "python3",
      "display_name": "Python 3"
    },
    "language_info": {
      "name": "python"
    }
  },
  "cells": [
    {
      "cell_type": "markdown",
      "source": [
        "\n",
        "\n",
        "```\n",
        "# This is formatted as code\n",
        "```\n",
        "\n",
        "**What is 7 to the power of 4?**"
      ],
      "metadata": {
        "id": "TcrQ69fm1Je9"
      }
    },
    {
      "cell_type": "code",
      "source": [
        "7**4"
      ],
      "metadata": {
        "colab": {
          "base_uri": "https://localhost:8080/"
        },
        "id": "-ztRE4un1L79",
        "outputId": "73ba5353-7729-4c5c-af2a-b348af86bfea"
      },
      "execution_count": 1,
      "outputs": [
        {
          "output_type": "execute_result",
          "data": {
            "text/plain": [
              "2401"
            ]
          },
          "metadata": {},
          "execution_count": 1
        }
      ]
    },
    {
      "cell_type": "markdown",
      "source": [
        "**Split this string:**\n",
        "\n",
        "  s = \"Hi there Sam!\"\n",
        "\n",
        "**into a list.**"
      ],
      "metadata": {
        "id": "JLiboOfaXXNh"
      }
    },
    {
      "cell_type": "code",
      "source": [
        "s = \"Hi there Sam!\"\n",
        "a=list(s.split(\" \"))"
      ],
      "metadata": {
        "id": "Sxmekm6bXlac"
      },
      "execution_count": 2,
      "outputs": []
    },
    {
      "cell_type": "code",
      "source": [
        "print(a)"
      ],
      "metadata": {
        "colab": {
          "base_uri": "https://localhost:8080/"
        },
        "id": "fkXXMsaTXtNh",
        "outputId": "4614c71b-9fcf-453e-dba5-be66439a1cb8"
      },
      "execution_count": 3,
      "outputs": [
        {
          "output_type": "stream",
          "name": "stdout",
          "text": [
            "['Hi', 'there', 'Sam!']\n"
          ]
        }
      ]
    },
    {
      "cell_type": "markdown",
      "source": [
        "**Given the variables:**\n",
        "\n",
        "  planet = \"Earth\"\n",
        "  diameter = 12742\n",
        "\n",
        "**Use .format() to print the following string:**\n",
        "\n",
        "  The diameter of Earth is 12742 kilometers."
      ],
      "metadata": {
        "id": "x0pxjZ0sX0bS"
      }
    },
    {
      "cell_type": "code",
      "source": [
        "planet = \"Earth\"\n",
        "diameter = 12742"
      ],
      "metadata": {
        "id": "mHNOr4SnYAHc"
      },
      "execution_count": 4,
      "outputs": []
    },
    {
      "cell_type": "code",
      "source": [
        "print(\"The diameter of {} is {} kilometers\".format(planet,diameter))"
      ],
      "metadata": {
        "colab": {
          "base_uri": "https://localhost:8080/"
        },
        "id": "qCz-HslHYHBJ",
        "outputId": "2411e8c7-9850-4d37-9a69-c32314dbff86"
      },
      "execution_count": 5,
      "outputs": [
        {
          "output_type": "stream",
          "name": "stdout",
          "text": [
            "The diameter of Earth is 12742 kilometers\n"
          ]
        }
      ]
    },
    {
      "cell_type": "markdown",
      "source": [
        "**Given this nested list, use indexing to grab the word \"hello\"**"
      ],
      "metadata": {
        "id": "tDBp7UZmZKt5"
      }
    },
    {
      "cell_type": "code",
      "source": [
        "lst = [1,2,[3,4],[5,[100,200,['hello']],23,11],1,7]"
      ],
      "metadata": {
        "id": "OOi2hjIPZfF-"
      },
      "execution_count": 6,
      "outputs": []
    },
    {
      "cell_type": "code",
      "source": [
        "print(lst[3][1][2])"
      ],
      "metadata": {
        "colab": {
          "base_uri": "https://localhost:8080/"
        },
        "id": "7CFY7VqCZnu-",
        "outputId": "6a85d50f-41a8-443a-d5d1-74cb3d7065b8"
      },
      "execution_count": 7,
      "outputs": [
        {
          "output_type": "stream",
          "name": "stdout",
          "text": [
            "['hello']\n"
          ]
        }
      ]
    },
    {
      "cell_type": "markdown",
      "source": [
        "**Given this nest dictionary grab the word \"hello\". Be prepared, this will be annoying/tricky**"
      ],
      "metadata": {
        "id": "jCKkOG1_ZylV"
      }
    },
    {
      "cell_type": "code",
      "source": [
        "d = {'k1':[1,2,3,{'tricky':['oh','man','inception',{'target':[1,2,3,'hello']}]}]}"
      ],
      "metadata": {
        "id": "JvRO4pMIZ2xv"
      },
      "execution_count": 8,
      "outputs": []
    },
    {
      "cell_type": "code",
      "source": [
        "print(d['k1'][3]['tricky'][3]['target'][3])"
      ],
      "metadata": {
        "colab": {
          "base_uri": "https://localhost:8080/"
        },
        "id": "Q02_k3jxZ6Xc",
        "outputId": "2f9f131b-6d91-4c5a-c688-e617e825b03e"
      },
      "execution_count": 9,
      "outputs": [
        {
          "output_type": "stream",
          "name": "stdout",
          "text": [
            "hello\n"
          ]
        }
      ]
    },
    {
      "cell_type": "markdown",
      "source": [
        "**What is the main difference between a tuple and a list?**"
      ],
      "metadata": {
        "id": "yQ3Fy1wraA0n"
      }
    },
    {
      "cell_type": "code",
      "source": [
        "\"the main difference between tuple and list is that the tuple is immutable where as list is mutable\""
      ],
      "metadata": {
        "colab": {
          "base_uri": "https://localhost:8080/",
          "height": 35
        },
        "id": "mgs6omy9aI1t",
        "outputId": "d05744b5-4971-4daf-f260-d8a224fa11cd"
      },
      "execution_count": 10,
      "outputs": [
        {
          "output_type": "execute_result",
          "data": {
            "text/plain": [
              "'the main difference between tuple and list is that the tuple is immutable where as list is mutable'"
            ],
            "application/vnd.google.colaboratory.intrinsic+json": {
              "type": "string"
            }
          },
          "metadata": {},
          "execution_count": 10
        }
      ]
    },
    {
      "cell_type": "markdown",
      "source": [
        "**Create a function that grabs the email website domain from a string in the form:**\n",
        "\n",
        "            user@domain.com\n",
        "\n",
        "**So for example, passing \"user@domain.com\" would return: domain.com**"
      ],
      "metadata": {
        "id": "bFhRAe4IaZVy"
      }
    },
    {
      "cell_type": "code",
      "source": [
        "a=\"user@domain.com\""
      ],
      "metadata": {
        "id": "VaQRgDKWaiuY"
      },
      "execution_count": 11,
      "outputs": []
    },
    {
      "cell_type": "code",
      "source": [
        "l=0\n",
        "for i in a:\n",
        "  if i=='@':\n",
        "    l=a.index(i)+1\n",
        "print(a[l::])"
      ],
      "metadata": {
        "colab": {
          "base_uri": "https://localhost:8080/"
        },
        "id": "_P4zDrHianSm",
        "outputId": "3d412500-60ff-4a53-9728-da30df90f5e0"
      },
      "execution_count": 12,
      "outputs": [
        {
          "output_type": "stream",
          "name": "stdout",
          "text": [
            "domain.com\n"
          ]
        }
      ]
    },
    {
      "cell_type": "markdown",
      "source": [
        "**Create a basic function that returns True if the word 'dog' is contained in the input string. Don't worry about edge cases like a punctuation being attached to the word dog, but do account for capitalization.**"
      ],
      "metadata": {
        "id": "MeStoc9Qarua"
      }
    },
    {
      "cell_type": "code",
      "source": [
        "def check(str1):\n",
        "  str1.lower()\n",
        "  if \"dog\" in str1:\n",
        "    return True\n",
        "  else:\n",
        "    return False"
      ],
      "metadata": {
        "id": "EBMvytDIawco"
      },
      "execution_count": 13,
      "outputs": []
    },
    {
      "cell_type": "code",
      "source": [
        "print(check(\"The phrase contains dog\"))\n",
        "print(check(\"The phrase contains cat\"))"
      ],
      "metadata": {
        "colab": {
          "base_uri": "https://localhost:8080/"
        },
        "id": "0LeoM01Xa1N-",
        "outputId": "b22e5eda-cffb-43ab-d282-fe4529d0ee5c"
      },
      "execution_count": 14,
      "outputs": [
        {
          "output_type": "stream",
          "name": "stdout",
          "text": [
            "True\n",
            "False\n"
          ]
        }
      ]
    },
    {
      "cell_type": "markdown",
      "source": [
        "**Create a function that counts the number of times the word \"dog\" occurs in a string. Again ignore edge cases.**"
      ],
      "metadata": {
        "id": "KuEfjpt8a8ch"
      }
    },
    {
      "cell_type": "code",
      "source": [
        "def counter(str1):\n",
        "  a=str1.count(\"dog\")\n",
        "  return a"
      ],
      "metadata": {
        "id": "zGJLh_T4bCXy"
      },
      "execution_count": 15,
      "outputs": []
    },
    {
      "cell_type": "code",
      "source": [
        "print(counter(\"dog dog dog\"))\n",
        "print(counter(\"dog licks the bone and the dog loves to play with it\"))"
      ],
      "metadata": {
        "colab": {
          "base_uri": "https://localhost:8080/"
        },
        "id": "Cldh_znEbCyN",
        "outputId": "5cebca0a-d435-4168-e802-06fea2c160dd"
      },
      "execution_count": 16,
      "outputs": [
        {
          "output_type": "stream",
          "name": "stdout",
          "text": [
            "3\n",
            "2\n"
          ]
        }
      ]
    },
    {
      "cell_type": "markdown",
      "source": [
        "**Problem**\n",
        "\n",
        "**You are driving a little too fast, and a police officer stops you. Write a function to return one of 3 possible results: \"No ticket\", \"Small ticket\", or \"Big Ticket\". If your speed is 60 or less, the result is \"No Ticket\". If speed is between 61 and 80 inclusive, the result is \"Small Ticket\". If speed is 81 or more, the result is \"Big Ticket\". Unless it is your birthday (encoded as a boolean value in the parameters of the function) -- on your birthday, your speed can be 5 higher in all cases.** "
      ],
      "metadata": {
        "id": "MDTqh8FgbJXa"
      }
    },
    {
      "cell_type": "code",
      "source": [
        "def caught_speeding(speed, is_birthday):\n",
        "    \n",
        "    if is_birthday:\n",
        "        speeding = speed - 5\n",
        "    else:\n",
        "        speeding = speed\n",
        "    \n",
        "    if speeding > 80:\n",
        "        return 'Big Ticket'\n",
        "    elif speeding > 60:\n",
        "        return 'Small Ticket'\n",
        "    else:\n",
        "        return 'No Ticket'"
      ],
      "metadata": {
        "id": "6Q07U376bc_m"
      },
      "execution_count": 17,
      "outputs": []
    },
    {
      "cell_type": "code",
      "source": [
        "caught_speeding(90,1)"
      ],
      "metadata": {
        "colab": {
          "base_uri": "https://localhost:8080/",
          "height": 35
        },
        "id": "BoU1iw6Rbe7X",
        "outputId": "b0934682-dc8e-4a44-805b-f322e5a93ace"
      },
      "execution_count": 18,
      "outputs": [
        {
          "output_type": "execute_result",
          "data": {
            "text/plain": [
              "'Big Ticket'"
            ],
            "application/vnd.google.colaboratory.intrinsic+json": {
              "type": "string"
            }
          },
          "metadata": {},
          "execution_count": 18
        }
      ]
    },
    {
      "cell_type": "code",
      "source": [
        "caught_speeding(65,0)"
      ],
      "metadata": {
        "colab": {
          "base_uri": "https://localhost:8080/",
          "height": 35
        },
        "id": "KG-AjpXbbicB",
        "outputId": "c42d3b0f-1b68-4f2b-8343-cc5963b7b517"
      },
      "execution_count": 19,
      "outputs": [
        {
          "output_type": "execute_result",
          "data": {
            "text/plain": [
              "'Small Ticket'"
            ],
            "application/vnd.google.colaboratory.intrinsic+json": {
              "type": "string"
            }
          },
          "metadata": {},
          "execution_count": 19
        }
      ]
    },
    {
      "cell_type": "markdown",
      "source": [
        "**Create an employee list with basic salary values(at least 5 values for 5 employees) and using a for loop retreive each employee salary and calculate total salary expenditure.**"
      ],
      "metadata": {
        "id": "fvqhESd7bq19"
      }
    },
    {
      "cell_type": "code",
      "source": [
        "salary=[1000,1500,1800,1200,1100]\n",
        "sum=0\n",
        "for i in salary:\n",
        "  sum=sum+i\n",
        "print(\"the total salary is \",sum)"
      ],
      "metadata": {
        "colab": {
          "base_uri": "https://localhost:8080/"
        },
        "id": "cNedFPGjbs63",
        "outputId": "a91134e5-1dc3-4f08-f97b-8873fba66581"
      },
      "execution_count": 20,
      "outputs": [
        {
          "output_type": "stream",
          "name": "stdout",
          "text": [
            "the total salary is  6600\n"
          ]
        }
      ]
    },
    {
      "cell_type": "markdown",
      "source": [
        "**Create two dictionaries in Python:**\n",
        "\n",
        "**First one to contain fields as Empid, Empname, Basicpay**\n",
        "\n",
        "**Second dictionary to contain fields as DeptName, DeptId.**\n",
        "\n",
        "**Combine both dictionaries.**"
      ],
      "metadata": {
        "id": "Wk75OaO2bzTE"
      }
    },
    {
      "cell_type": "code",
      "source": [
        "emp={\"Empid\":1,\"Empname\":\"surya\",\"Basicpay\":5000}\n",
        "dept={\"DeptName\":'cse',\"Deptid\":104}\n",
        "emp.update(dept)\n",
        "print(emp)"
      ],
      "metadata": {
        "colab": {
          "base_uri": "https://localhost:8080/"
        },
        "id": "xMxvTneWb8ES",
        "outputId": "590c7e90-c1fb-4dc4-db64-74d6cf7e1812"
      },
      "execution_count": 22,
      "outputs": [
        {
          "output_type": "stream",
          "name": "stdout",
          "text": [
            "{'Empid': 1, 'Empname': 'surya', 'Basicpay': 5000, 'DeptName': 'cse', 'Deptid': 104}\n"
          ]
        }
      ]
    }
  ]
}