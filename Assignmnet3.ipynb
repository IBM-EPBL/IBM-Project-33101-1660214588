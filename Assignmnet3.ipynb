{
  "nbformat": 4,
  "nbformat_minor": 0,
  "metadata": {
    "colab": {
      "provenance": [],
      "authorship_tag": "ABX9TyPhJA43Xk7G9oS4sE1d4Q72",
      "include_colab_link": true
    },
    "kernelspec": {
      "name": "python3",
      "display_name": "Python 3"
    },
    "language_info": {
      "name": "python"
    }
  },
  "cells": [
    {
      "cell_type": "markdown",
      "metadata": {
        "id": "view-in-github",
        "colab_type": "text"
      },
      "source": [
        "<a href=\"https://colab.research.google.com/github/IBM-EPBL/IBM-Project-33101-1660214588/blob/main/Assignmnet3.ipynb\" target=\"_parent\"><img src=\"https://colab.research.google.com/assets/colab-badge.svg\" alt=\"Open In Colab\"/></a>"
      ]
    },
    {
      "cell_type": "markdown",
      "source": [
        "**1) What is 7 to the power of 4?**"
      ],
      "metadata": {
        "id": "tkrQomgIKKpa"
      }
    },
    {
      "cell_type": "code",
      "source": [
        "a=7\n",
        "b=4\n",
        "c=a**b\n",
        "print(c)"
      ],
      "metadata": {
        "colab": {
          "base_uri": "https://localhost:8080/"
        },
        "id": "Pthm8DGGKSzd",
        "outputId": "799299f0-1a81-4736-e0d6-c671d0b9ad10"
      },
      "execution_count": 1,
      "outputs": [
        {
          "output_type": "stream",
          "name": "stdout",
          "text": [
            "2401\n"
          ]
        }
      ]
    },
    {
      "cell_type": "markdown",
      "source": [
        "**2) Split this string:**\n",
        "\n",
        "**s = \"Hi there Sam!\"**\n",
        "\n",
        "**into a list.** "
      ],
      "metadata": {
        "id": "hYM5a1NbLERx"
      }
    },
    {
      "cell_type": "code",
      "source": [
        "s=\"Hi there Sam!\"\n",
        "t=s.split(\" \")\n",
        "print(t)"
      ],
      "metadata": {
        "colab": {
          "base_uri": "https://localhost:8080/"
        },
        "id": "4TnGaOacLnI0",
        "outputId": "1a3e2d6d-d378-4a22-9ebb-333cf243161a"
      },
      "execution_count": 2,
      "outputs": [
        {
          "output_type": "stream",
          "name": "stdout",
          "text": [
            "['Hi', 'there', 'Sam!']\n"
          ]
        }
      ]
    },
    {
      "cell_type": "markdown",
      "source": [
        "**3) planet = \"Earth\"**\n",
        "**diameter = 12742**\n",
        " Use.format() to print the following string: \n",
        "The diameter of Earth is 12742 kilometers. "
      ],
      "metadata": {
        "id": "wo8CgP87MAEG"
      }
    },
    {
      "cell_type": "code",
      "source": [
        "d=\"The diameter of {planet} is {diameter} kilometers.\"\n",
        "e=d.format(planet=\"Earth\",diameter=12742)\n",
        "print(e)"
      ],
      "metadata": {
        "colab": {
          "base_uri": "https://localhost:8080/"
        },
        "id": "o9C18R6dMlAH",
        "outputId": "04e9e444-f520-4cf0-9e9a-decd0986fc95"
      },
      "execution_count": 3,
      "outputs": [
        {
          "output_type": "stream",
          "name": "stdout",
          "text": [
            "The diameter of Earth is 12742 kilometers.\n"
          ]
        }
      ]
    },
    {
      "cell_type": "markdown",
      "source": [
        "**4) Given this nested list, use indexing to grab the word \"hello\"**"
      ],
      "metadata": {
        "id": "5Gjw2WSSNq-7"
      }
    },
    {
      "cell_type": "code",
      "source": [
        "lst = [1,2,[3,4],[5,[100,200,['hello']],23,11],1,7]"
      ],
      "metadata": {
        "id": "xizqRK6ANucn"
      },
      "execution_count": null,
      "outputs": []
    },
    {
      "cell_type": "code",
      "source": [
        "lst =[1,2,[3,4],[5,[100,200,['hello']],23,11],1,7]\n",
        "print(lst[3][1][2][0])"
      ],
      "metadata": {
        "colab": {
          "base_uri": "https://localhost:8080/"
        },
        "id": "5OlhoB90N2De",
        "outputId": "93e88e10-f770-4add-de2b-7d446af311c2"
      },
      "execution_count": 5,
      "outputs": [
        {
          "output_type": "stream",
          "name": "stdout",
          "text": [
            "hello\n"
          ]
        }
      ]
    },
    {
      "cell_type": "markdown",
      "source": [
        "**5) Given this nest dictionary grab the word \"hello\". Be prepared, this will be annoying/tricky**"
      ],
      "metadata": {
        "id": "3V8ZlRTMObW2"
      }
    },
    {
      "cell_type": "code",
      "source": [
        "f = {'k1':[1,2,3,{'tricky':['oh','man','inception',{'target':[1,2,3,'hello']}]}]}"
      ],
      "metadata": {
        "id": "IHDViNdMOvEA"
      },
      "execution_count": null,
      "outputs": []
    },
    {
      "cell_type": "code",
      "source": [
        "f = {'k1':[1,2,3,{'tricky':['oh','man','inception',{'target':[1,2,3,'hello']}]}]}\n",
        "print(f['k1'][3][\"tricky\"][3]['target'][3])"
      ],
      "metadata": {
        "colab": {
          "base_uri": "https://localhost:8080/"
        },
        "id": "eXEccb23O2aj",
        "outputId": "77f45b25-af8d-416e-d46d-c37bec9bacc7"
      },
      "execution_count": 6,
      "outputs": [
        {
          "output_type": "stream",
          "name": "stdout",
          "text": [
            "hello\n"
          ]
        }
      ]
    },
    {
      "cell_type": "markdown",
      "source": [
        "**6) What is the main difference between a tuple and a list?**"
      ],
      "metadata": {
        "id": "o0GPfE9DPYOz"
      }
    },
    {
      "cell_type": "markdown",
      "source": [
        "g=(1,2,3)\n",
        "\n",
        "list=[1,2,3]\n",
        "\n",
        "tuple is immutable, and list is mutable"
      ],
      "metadata": {
        "id": "0ET2ZjyZQMUC"
      }
    },
    {
      "cell_type": "markdown",
      "source": [
        "**7) Create a function that grabs the email website domain from a string in the form:**\n",
        "\n",
        "**user@domain.com**\n",
        "\n",
        "**So for example, passing \"user@domain.com\" would return: domain.com**"
      ],
      "metadata": {
        "id": "u_jC1RLoQUD_"
      }
    },
    {
      "cell_type": "code",
      "source": [
        "def domainGet(email):\n",
        "  print(email.split('@')[-1])\n",
        "email=input(\"enter your email:>\")\n",
        "domainGet(email)"
      ],
      "metadata": {
        "colab": {
          "base_uri": "https://localhost:8080/"
        },
        "id": "RfuOpVojQeaZ",
        "outputId": "88b381dc-bfd1-4fa7-96c5-777ac15eb206"
      },
      "execution_count": 12,
      "outputs": [
        {
          "output_type": "stream",
          "name": "stdout",
          "text": [
            "enter your email:>user@domain.com\n",
            "domain.com\n"
          ]
        }
      ]
    },
    {
      "cell_type": "markdown",
      "source": [
        "**8) Create a basic function that returns True if the word 'dog' is contained in the input string. Don't worry about edge cases like a punctuation being attached to the word dog, but do account for capitalization.**"
      ],
      "metadata": {
        "id": "3bGoXGw6RS84"
      }
    },
    {
      "cell_type": "code",
      "source": [
        "def findDog(st):\n",
        "  if'dog' in st.lower():\n",
        "    print(\"True\")\n",
        "  else:\n",
        "      print(\"False\")\n",
        "st=input(\"Please key a string:>\")\n",
        "findDog(st)"
      ],
      "metadata": {
        "colab": {
          "base_uri": "https://localhost:8080/"
        },
        "id": "V1XwtVc2RWFi",
        "outputId": "d3d8e1d3-d35b-4ec7-a53e-277e1f7698ed"
      },
      "execution_count": 15,
      "outputs": [
        {
          "output_type": "stream",
          "name": "stdout",
          "text": [
            "Please key a string:>DOG is barking\n",
            "True\n"
          ]
        }
      ]
    },
    {
      "cell_type": "markdown",
      "source": [
        "**9) Create a function that counts the number of times the word \"dog\" occurs in a string. Again ignore edge cases.**"
      ],
      "metadata": {
        "id": "2HUXPHL_R8Ub"
      }
    },
    {
      "cell_type": "code",
      "source": [
        "string=input(\"Enter your string:\")\n",
        "def countdogs(string):\n",
        "  count=0\n",
        "  for word in string.lower().split():\n",
        "    if word=='dog':\n",
        "      count=count+1\n",
        "  print(count)\n",
        "countdogs(string)"
      ],
      "metadata": {
        "colab": {
          "base_uri": "https://localhost:8080/"
        },
        "id": "P3xmKWsRR-5k",
        "outputId": "51092738-b17b-411e-c638-5272e1b1eb5d"
      },
      "execution_count": 21,
      "outputs": [
        {
          "output_type": "stream",
          "name": "stdout",
          "text": [
            "Enter your string:color of the dog is very nice, dog is barking\n",
            "2\n"
          ]
        }
      ]
    },
    {
      "cell_type": "markdown",
      "source": [
        "# **Problem**\n",
        "**You are driving a little too fast, and a police officer stops you. Write a function to return one of 3 possible results: \"No ticket\", \"Small ticket\", or \"Big Ticket\". If your speed is 60 or less, the result is \"No Ticket\". If speed is between 61 and 80 inclusive, the result is \"Small Ticket\". If speed is 81 or more, the result is \"Big Ticket\". Unless it is your birthday (encoded as a boolean value in the parameters of the function) -- on your birthday, your speed can be 5 higher in all cases.**"
      ],
      "metadata": {
        "id": "fbbsHKSiTYzq"
      }
    },
    {
      "cell_type": "code",
      "source": [
        "print(\"Enter the speed(km/h)(only member phase):\\n\")\n",
        "speed=int(input(\">\"))\n",
        "print(\"Enter your birthday:(in DD/MM/YYYY format)\\n\")\n",
        "is_birthday=str(input(\">\"))\n",
        "def caught_speeding(speed, is_birthday):\n",
        "    \n",
        "    if is_birthday=='28/07/2000':\n",
        "        speeding = speed - 5\n",
        "    else:\n",
        "        speeding = speed\n",
        "    \n",
        "    if speeding <=60:\n",
        "        print(\"no ticket\")\n",
        "    elif speeding>61 and speeding<=80:\n",
        "      print(\"Small Ticket\")\n",
        "    else:\n",
        "      print(\"Big Ticktet\")\n",
        "caught_speeding(speed,is_birthday)"
      ],
      "metadata": {
        "colab": {
          "base_uri": "https://localhost:8080/"
        },
        "id": "fQuRrIKmTxdP",
        "outputId": "89f6a940-ae77-4919-d76d-c19981ae51ee"
      },
      "execution_count": 25,
      "outputs": [
        {
          "output_type": "stream",
          "name": "stdout",
          "text": [
            "Enter the speed(km/h)(only member phase):\n",
            "\n",
            ">85\n",
            "Enter your birthday:(in DD/MM/YYYY format)\n",
            "\n",
            ">28/07/2000\n",
            "Small Ticket\n"
          ]
        }
      ]
    },
    {
      "cell_type": "markdown",
      "source": [
        "**Create an employee list with basic salary values(at least 5 values for 5 employees) and using a for loop retreive each employee salary and calculate total salary expenditure.**"
      ],
      "metadata": {
        "id": "r2UXgq1_VJ7D"
      }
    },
    {
      "cell_type": "code",
      "source": [
        "def weeklyPaid(hours_worked, wage):\n",
        "    if hours_worked > 40:\n",
        "        return 40 * wage + (hours_worked - 40) * wage * 1.5\n",
        "    else:\n",
        "        return hours_worked * wage\n",
        " \n",
        " \n",
        "hours_worked = 50\n",
        "wage = 100\n",
        " \n",
        "pay = weeklyPaid(hours_worked, wage)\n",
        " \n",
        "print(f\"Total salary expenditure: Rs.{pay:.2f} \")"
      ],
      "metadata": {
        "colab": {
          "base_uri": "https://localhost:8080/"
        },
        "id": "hk79GzFbVMfZ",
        "outputId": "696f02ba-9a4e-410c-b7bc-60f61da79f97"
      },
      "execution_count": 26,
      "outputs": [
        {
          "output_type": "stream",
          "name": "stdout",
          "text": [
            "Total salary expenditure: Rs.5500.00 \n"
          ]
        }
      ]
    },
    {
      "cell_type": "markdown",
      "source": [
        "**Create two dictionaries in Python:**\n",
        "\n",
        "**First one to contain fields as Empid, Empname, Basicpay**\n",
        "\n",
        "**Second dictionary to contain fields as DeptName, DeptId.**\n",
        "\n",
        "**Combine both dictionaries.**"
      ],
      "metadata": {
        "id": "J4ezKpWkWVd3"
      }
    },
    {
      "cell_type": "code",
      "source": [
        "def Merge(dict1, dict2):\n",
        "    res = {**dict1, **dict2}\n",
        "    return res  \n",
        "# Driver code\n",
        "dict1 = {'EmpName': 'ramya','Empid':'1915014', 'Basicpay': 50000}\n",
        "dict2 = {'depname': 'IT', 'depid': 1915}\n",
        "dict3 = Merge(dict1, dict2)\n",
        "print(dict3)"
      ],
      "metadata": {
        "colab": {
          "base_uri": "https://localhost:8080/"
        },
        "id": "7zdtKOjQWgqS",
        "outputId": "eeb82049-af86-47e5-de7d-f444730a2538"
      },
      "execution_count": 27,
      "outputs": [
        {
          "output_type": "stream",
          "name": "stdout",
          "text": [
            "{'EmpName': 'ramya', 'Empid': '1915014', 'Basicpay': 50000, 'depname': 'IT', 'depid': 1915}\n"
          ]
        }
      ]
    }
  ]
}